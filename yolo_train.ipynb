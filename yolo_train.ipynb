{
 "cells": [
  {
   "cell_type": "code",
   "execution_count": null,
   "metadata": {},
   "outputs": [],
   "source": [
    "# !git clone https://github.com/WongKinYiu/yolov7.git\n",
    "# %cd yolov7\n",
    "# !pip install -r requirements.txt\n",
    "# !wget https://github.com/WongKinYiu/yolov7/releases/download/v0.1/yolov7.pt\n",
    "\n",
    "# import yaml\n",
    "# import os\n",
    "# %cd yolov7\n",
    "# config = {'train': \"/content/images/train\",\n",
    "#           'val': \"/content/images/val\",\n",
    "#           'nc': 1,\n",
    "#           'names': ['Face']}\n",
    "# with open(\"data/custom.ipynb\", 'w') as file:\n",
    "#   yaml.dump(config, file, default_flow_style=False)\n",
    "\n",
    "# !python \"train.py\" --weights yolov7.pt --data \"data/custom.ipynb\" --workers 4 --batch-size 32 --img 512 --cfg \"cfg/training/yolov7.yaml\" --name yolov7 --epochs 5 --hyp \"data/hyp.scratch.p5.yaml\"\n"
   ]
  }
 ],
 "metadata": {
  "language_info": {
   "name": "python"
  }
 },
 "nbformat": 4,
 "nbformat_minor": 2
}
